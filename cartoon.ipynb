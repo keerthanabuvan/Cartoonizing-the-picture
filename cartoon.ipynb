{
  "nbformat": 4,
  "nbformat_minor": 0,
  "metadata": {
    "colab": {
      "name": "cartoon.ipynb",
      "provenance": [],
      "authorship_tag": "ABX9TyP81/Nog/msbAwvLtaJHmwl",
      "include_colab_link": true
    },
    "kernelspec": {
      "name": "python3",
      "display_name": "Python 3"
    }
  },
  "cells": [
    {
      "cell_type": "markdown",
      "metadata": {
        "id": "view-in-github",
        "colab_type": "text"
      },
      "source": [
        "<a href=\"https://colab.research.google.com/github/keerthanabuvan/Cartoonizing-the-picture/blob/master/cartoon.ipynb\" target=\"_parent\"><img src=\"https://colab.research.google.com/assets/colab-badge.svg\" alt=\"Open In Colab\"/></a>"
      ]
    },
    {
      "cell_type": "code",
      "metadata": {
        "id": "ljxU50h30A_B",
        "colab_type": "code",
        "colab": {}
      },
      "source": [
        "import cv2\n",
        "import numpy as np\n",
        "from google.colab.patches import cv2_imshow"
      ],
      "execution_count": null,
      "outputs": []
    },
    {
      "cell_type": "code",
      "metadata": {
        "id": "RHBKtnPg0LLc",
        "colab_type": "code",
        "colab": {}
      },
      "source": [
        "num_down=2     #number of downsampling steps\n",
        "num_bilateral=7 #number of bilateral filtering steps"
      ],
      "execution_count": null,
      "outputs": []
    },
    {
      "cell_type": "code",
      "metadata": {
        "id": "0fWzlEyf0S8J",
        "colab_type": "code",
        "colab": {}
      },
      "source": [
        "img_rgb=cv2.imread(\"baby.jpg\")\n",
        "print(img_rgb.shape)    #prints dimension of the image"
      ],
      "execution_count": null,
      "outputs": []
    },
    {
      "cell_type": "code",
      "metadata": {
        "id": "gkQwBEsw1QVF",
        "colab_type": "code",
        "colab": {}
      },
      "source": [
        "img_rgb=cv2.resize(img_rgb,(800,800)) #resizing to get optimal status"
      ],
      "execution_count": null,
      "outputs": []
    },
    {
      "cell_type": "code",
      "metadata": {
        "id": "hg7XrwMy114F",
        "colab_type": "code",
        "colab": {}
      },
      "source": [
        "#downsample image using guassian pyramid\n",
        "img_color=img_rgb\n",
        "for _ in range(num_down):\n",
        "  img_color=cv2.pyrDown(img_color)\n"
      ],
      "execution_count": null,
      "outputs": []
    },
    {
      "cell_type": "code",
      "metadata": {
        "id": "7vosqbnI2QKl",
        "colab_type": "code",
        "colab": {}
      },
      "source": [
        "#repeatedly apply small bilateral filter instead of applying one large filter\n",
        "for _ in range(num_bilateral):\n",
        "  imd_color=cv2.bilateralFilter(img_color,d=2,sigmaColor=9,sigmaSpace=7)"
      ],
      "execution_count": null,
      "outputs": []
    },
    {
      "cell_type": "code",
      "metadata": {
        "id": "I-M1ScE82rOs",
        "colab_type": "code",
        "colab": {}
      },
      "source": [
        "#upsample image to original size\n",
        "for _ in range (num_down):\n",
        "  img_color=cv2.pyrUp(img_color)\n",
        "  img_gray=cv2.cvtColor(img_rgb,cv2.COLOR_RGB2GRAY)\n",
        "  img_blur=cv2.medianBlur(img_gray,7)\n",
        "  img_edge=cv2.adaptiveThreshold(img_blur,255,cv2.ADAPTIVE_THRESH_MEAN_C,cv2.THRESH_BINARY,blockSize=9,C=2)\n",
        "\n",
        "  "
      ],
      "execution_count": null,
      "outputs": []
    },
    {
      "cell_type": "code",
      "metadata": {
        "id": "PMBdOerE3nwI",
        "colab_type": "code",
        "colab": {}
      },
      "source": [
        "#convert back to color,bit-AND withb bcolor image\n",
        "img_edge=cv2.cvtColor(img_edge,cv2.COLOR_GRAY2RGB)\n",
        "img_cartoon=cv2.bitwise_and(img_color,img_edge)\n",
        "cv2.waitKey(0)"
      ],
      "execution_count": null,
      "outputs": []
    },
    {
      "cell_type": "code",
      "metadata": {
        "id": "INywFcTT7toE",
        "colab_type": "code",
        "colab": {}
      },
      "source": [
        "#display\n",
        "\n",
        "stack=np.hstack([img_rgb,img_cartoon,img_edge])\n",
        "cv2_imshow(stack)"
      ],
      "execution_count": null,
      "outputs": []
    }
  ]
}